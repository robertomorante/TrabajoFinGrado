{
 "cells": [
  {
   "cell_type": "code",
   "execution_count": null,
   "metadata": {},
   "outputs": [],
   "source": [
    "def Teorema_Chino_Resto(KList,N):\n",
    "    '''\n",
    "    Función que resuelve un sistema de congruencias implementando el Teorema Chino del Resto.\n",
    "    Entrada: una lista de números enteros y módulos que forman un sistema de congruencias y un número N que será el \n",
    "    módulo de la solución del sistema de congruencias.\n",
    "    Salida: un número k solución del sistema de congruencias en módulo N.\n",
    "    '''\n",
    "    k = 0\n",
    "    for i in KList:\n",
    "        m = N/i[1]\n",
    "        b = inverse_mod(m%i[1],i[1])\n",
    "        k = k + i[0]*m*b\n",
    "    k = k%N\n",
    "    return k"
   ]
  },
  {
   "cell_type": "code",
   "execution_count": null,
   "metadata": {},
   "outputs": [],
   "source": [
    "def Pohlig_Hellman(P,Q):\n",
    "    '''\n",
    "    Función que resuelve el problema del logaritmo discreto en una curva elíptica usando el algoritmo Pohlig-Hellman.\n",
    "    Entrada: dos puntos P y Q de una curva elíptica definida en un cuerpo finito.\n",
    "    Salida: una lista de números enteros y módulos que forman un sistema de congruencias y un número N que será el \n",
    "    módulo de la solución del sistema de congruencias.\n",
    "    '''\n",
    "    N = P.order()\n",
    "    factores = factor(N) #Descomposición de N en potencias de números primos\n",
    "    KList = [] #Lista donde se almacenan los distintos valores para k\n",
    "    \n",
    "    for i in factores:\n",
    "        T = []\n",
    "        KiList = [] #Lista donde se almacenan los Ki para obtener k\n",
    "        Qi = Q\n",
    "        \n",
    "        for j in range(i[0]):\n",
    "            A = int(j*N/i[0])*P\n",
    "            T.append(A)\n",
    "        \n",
    "        for l in range(i[1]):\n",
    "            B = int(N/i[0]^(l+1))*Qi\n",
    "            Ki = T.index(B)\n",
    "            KiList.append(Ki)\n",
    "            if l < (i[1]-1):\n",
    "                Qi = Qi - Ki*i[0]^l*P\n",
    "        k = 0\n",
    "        \n",
    "        #Sacamos cuanto vale k en base de la potencia de un factor\n",
    "        for m in range(i[1]):\n",
    "            k = k + KiList[m]*i[0]^m\n",
    "        k = k%i[0]^(i[1])\n",
    "        KList.append([k,i[0]^(i[1])])\n",
    "    return Teorema_Chino_Resto(KList,N)"
   ]
  },
  {
   "cell_type": "code",
   "execution_count": null,
   "metadata": {},
   "outputs": [],
   "source": [
    "import numpy as np\n",
    "i = next_prime(1000)\n",
    "cuerpos = []\n",
    "ordenes = []\n",
    "tiempos_medias = []\n",
    "tiempos_desviaciones = []\n",
    "while i < 20000:\n",
    "    E = EllipticCurve(GF(i),[2,1])\n",
    "    N = E.order() - 1\n",
    "    j = 0\n",
    "    times = []\n",
    "    while j < 10:\n",
    "        P = E[randint(1,N)]\n",
    "        n = randint(1,N)\n",
    "        Q = n*P\n",
    "        time_Inicial = cputime()\n",
    "        k = Pohlig_Hellman(P,Q)\n",
    "        time_Final = cputime() - time_Inicial\n",
    "        times.append(time_Final)\n",
    "        j = j + 1\n",
    "    tiempos_medias.append(np.array(times).mean())\n",
    "    tiempos_desviaciones.append(np.array(times).std())\n",
    "    ordenes.append(N)\n",
    "    cuerpos.append(i)\n",
    "    i = next_prime(i)\n",
    "import csv\n",
    "with open('Datos_Pohlig_Hellman.csv', 'w', newline='') as csvfile:\n",
    "    writer = csv.writer(csvfile, delimiter=';')\n",
    "    k = 0\n",
    "    while k < len(ordenes):\n",
    "        writer.writerow([str(cuerpos[k])]+[str(ordenes[k])]+[str(tiempos_medias[k])]+[str(tiempos_desviaciones[k])])\n",
    "        k = k + 1"
   ]
  },
  {
   "cell_type": "code",
   "execution_count": null,
   "metadata": {},
   "outputs": [],
   "source": [
    "import csv\n",
    "Datos1 = []\n",
    "Datos2 = []\n",
    "with open('Datos_Pohlig_Hellman.csv', newline='') as csvfile:\n",
    "    spamreader = csv.reader(csvfile, delimiter=';')\n",
    "    for row in spamreader:\n",
    "        Datos1.append(int(row[0]))\n",
    "        Datos2.append(float(row[2]))\n",
    "recta = line(zip(Datos1,Datos2),axes_labels=['$Orden$ $Cuerpo$ $Finito$','$Tiempo$ $Medio$ $(s)$'],frame=True)\n",
    "recta.show()"
   ]
  },
  {
   "cell_type": "code",
   "execution_count": null,
   "metadata": {},
   "outputs": [],
   "source": [
    "import csv\n",
    "Datos1 = []\n",
    "Datos2 = []\n",
    "with open('Datos_Pohlig_Hellman.csv', newline='') as csvfile:\n",
    "    spamreader = csv.reader(csvfile, delimiter=';')\n",
    "    for row in spamreader:\n",
    "        Datos1.append(int(row[0]))\n",
    "        Datos2.append(float(row[3]))\n",
    "recta = line(zip(Datos1,Datos2),axes_labels=['$Orden$ $Cuerpo$ $Finito$','$Desviación$'],frame=True)\n",
    "recta.show()"
   ]
  }
 ],
 "metadata": {
  "kernelspec": {
   "display_name": "SageMath 9.2",
   "language": "sage",
   "name": "sagemath"
  },
  "language_info": {
   "codemirror_mode": {
    "name": "ipython",
    "version": 3
   },
   "file_extension": ".py",
   "mimetype": "text/x-python",
   "name": "python",
   "nbconvert_exporter": "python",
   "pygments_lexer": "ipython3",
   "version": "3.7.7"
  }
 },
 "nbformat": 4,
 "nbformat_minor": 4
}
