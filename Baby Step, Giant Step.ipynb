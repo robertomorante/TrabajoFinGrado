{
 "cells": [
  {
   "cell_type": "code",
   "execution_count": null,
   "metadata": {},
   "outputs": [],
   "source": [
    "def BabyStepGiantStep(P,Q):\n",
    "    '''\n",
    "    Función que resuelve el problema del logaritmo discreto en una curva elíptica usando el algoritmo Baby step, Giant step.\n",
    "    Entrada: dos puntos P y Q de una curva elíptica definida en un cuerpo finito.\n",
    "    Salida: un número k que cumple que k*P = Q.\n",
    "    '''\n",
    "    N = P.order()\n",
    "    m = randint(int(sqrt(N))+1,N)\n",
    "    list = []\n",
    "    i = 0\n",
    "    j = 0\n",
    "    \n",
    "    #Generamos la lista de elementos i*P, Baby step\n",
    "    while i < m:\n",
    "        A = i*P\n",
    "        list.append(A)\n",
    "        i = i + 1\n",
    "    \n",
    "    #Buscamos la colisión, Giant step\n",
    "    while j < m:\n",
    "        B = Q - j*m*P\n",
    "        if B in list:\n",
    "            l = list.index(B) #La posición del elemento en la lista\n",
    "            break\n",
    "        j = j + 1\n",
    "    \n",
    "    k = l + j*m\n",
    "    k = k%N\n",
    "    return k"
   ]
  },
  {
   "cell_type": "code",
   "execution_count": null,
   "metadata": {},
   "outputs": [],
   "source": [
    "import numpy as np\n",
    "i = next_prime(1000)\n",
    "cuerpos = []\n",
    "ordenes = []\n",
    "tiempos_medias = []\n",
    "tiempos_desviaciones = []\n",
    "while i < 20000:\n",
    "    E = EllipticCurve(GF(i),[2,1])\n",
    "    N = E.order() - 1\n",
    "    j = 0\n",
    "    times = []\n",
    "    while j < 10:\n",
    "        P = E[randint(1,N)]\n",
    "        n = randint(1,N)\n",
    "        Q = n*P\n",
    "        time_Inicial = cputime()\n",
    "        k = BabyStepGiantStep(P,Q)\n",
    "        time_Final = cputime() - time_Inicial\n",
    "        times.append(time_Final)\n",
    "        j = j + 1\n",
    "    tiempos_medias.append(np.array(times).mean())\n",
    "    tiempos_desviaciones.append(np.array(times).std())\n",
    "    ordenes.append(N)\n",
    "    cuerpos.append(i)\n",
    "    i = next_prime(i)\n",
    "import csv\n",
    "with open('Datos_BabyStepGiantStep.csv', 'w', newline='') as csvfile:\n",
    "    writer = csv.writer(csvfile, delimiter=';')\n",
    "    k = 0\n",
    "    while k < len(ordenes):\n",
    "        writer.writerow([str(cuerpos[k])]+[str(ordenes[k])]+[str(tiempos_medias[k])]+[str(tiempos_desviaciones[k])])\n",
    "        k = k + 1"
   ]
  },
  {
   "cell_type": "code",
   "execution_count": null,
   "metadata": {},
   "outputs": [],
   "source": [
    "import csv\n",
    "Datos1 = []\n",
    "Datos2 = []\n",
    "with open('Datos_BabyStepGiantStep.csv', newline='') as csvfile:\n",
    "    spamreader = csv.reader(csvfile, delimiter=';')\n",
    "    for row in spamreader:\n",
    "        Datos1.append(int(row[0]))\n",
    "        Datos2.append(float(row[2]))\n",
    "recta = line(zip(Datos1,Datos2),axes_labels=['$Orden$ $Cuerpo$ $Finito$','$Tiempo$ $Medio$ $(s)$'],frame=True)\n",
    "recta.show()"
   ]
  },
  {
   "cell_type": "code",
   "execution_count": null,
   "metadata": {},
   "outputs": [],
   "source": [
    "import csv\n",
    "Datos1 = []\n",
    "Datos2 = []\n",
    "with open('Datos_BabyStepGiantStep.csv', newline='') as csvfile:\n",
    "    spamreader = csv.reader(csvfile, delimiter=';')\n",
    "    for row in spamreader:\n",
    "        Datos1.append(int(row[0]))\n",
    "        Datos2.append(float(row[3]))\n",
    "recta = line(zip(Datos1,Datos2),axes_labels=['$Orden$ $Cuerpo$ $Finito$','$Desviación$'],frame=True)\n",
    "recta.show()"
   ]
  }
 ],
 "metadata": {
  "kernelspec": {
   "display_name": "SageMath 9.2",
   "language": "sage",
   "name": "sagemath"
  },
  "language_info": {
   "codemirror_mode": {
    "name": "ipython",
    "version": 3
   },
   "file_extension": ".py",
   "mimetype": "text/x-python",
   "name": "python",
   "nbconvert_exporter": "python",
   "pygments_lexer": "ipython3",
   "version": "3.7.7"
  }
 },
 "nbformat": 4,
 "nbformat_minor": 4
}
